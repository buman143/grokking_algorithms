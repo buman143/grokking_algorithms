{
 "cells": [
  {
   "cell_type": "markdown",
   "metadata": {},
   "source": [
    "# Selection Sort\n",
    "The general idea is that we have nested loops that look for the smallest element in an input array, $n$ number of times.  \n",
    "The time complexity is therefore $O(n^2)$."
   ]
  },
  {
   "cell_type": "code",
   "execution_count": 9,
   "metadata": {},
   "outputs": [],
   "source": [
    "import random"
   ]
  },
  {
   "cell_type": "code",
   "execution_count": 14,
   "metadata": {},
   "outputs": [],
   "source": [
    "# Define method that returns smallest element\n",
    "\n",
    "def get_smallest(arr):\n",
    "\n",
    "    # Start with smallest value\n",
    "    smallest = arr[0] # Element\n",
    "    smallest_index = 0 # Index\n",
    "    \n",
    "    # Iterate through each element of array\n",
    "    for i in range(1, len(arr)):\n",
    "\n",
    "        # If the current element < smallest, replace smallest\n",
    "        if arr[i] < smallest:\n",
    "            smallest = arr[i] # Replace element\n",
    "            smallest_index = i # Replace index\n",
    "\n",
    "    return smallest_index\n",
    "\n",
    "# Define method that uses selection sort to return a new sorted array\n",
    "\n",
    "def selection_sort(arr):\n",
    "    \n",
    "    # Create an empty new array to append to\n",
    "    new_arr = []\n",
    "\n",
    "    # Create a copy of the original array, which we will use as a pool of candidate elements\n",
    "    copied_arr = list(arr)\n",
    "    \n",
    "    # Loop through finding the smallest element until the copied array is empty\n",
    "    for i in range(len(copied_arr)):\n",
    "\n",
    "        # Get index of smallest element in copied array (this is itself a loop, and why selection sort is O(n^2))\n",
    "        smallest = get_smallest(copied_arr)\n",
    "\n",
    "        # Pop smallest element in copied array and append it to the new array\n",
    "        new_arr.append(copied_arr.pop(smallest))\n",
    "\n",
    "    return new_arr\n"
   ]
  },
  {
   "cell_type": "code",
   "execution_count": 15,
   "metadata": {},
   "outputs": [
    {
     "name": "stdout",
     "output_type": "stream",
     "text": [
      "[2, 3, 5, 6, 10]\n"
     ]
    }
   ],
   "source": [
    "test_array1 = [5, 3, 6, 2, 10]\n",
    "print(selection_sort(test_array1))"
   ]
  },
  {
   "cell_type": "code",
   "execution_count": 16,
   "metadata": {},
   "outputs": [
    {
     "name": "stdout",
     "output_type": "stream",
     "text": [
      "[89, 47, 88, 56, 20, 93, 48, 60, 10, 53, 38, 32, 74, 40, 36, 34, 58, 73, 12, 24, 61, 67, 96, 6, 14]\n",
      "[6, 10, 12, 14, 20, 24, 32, 34, 36, 38, 40, 47, 48, 53, 56, 58, 60, 61, 67, 73, 74, 88, 89, 93, 96]\n"
     ]
    }
   ],
   "source": [
    "random_arr = random.sample(range(101), 25)\n",
    "print(random_arr)\n",
    "print(selection_sort(random_arr))"
   ]
  },
  {
   "cell_type": "code",
   "execution_count": null,
   "metadata": {},
   "outputs": [],
   "source": []
  }
 ],
 "metadata": {
  "kernelspec": {
   "display_name": "Python 3",
   "language": "python",
   "name": "python3"
  },
  "language_info": {
   "codemirror_mode": {
    "name": "ipython",
    "version": 3
   },
   "file_extension": ".py",
   "mimetype": "text/x-python",
   "name": "python",
   "nbconvert_exporter": "python",
   "pygments_lexer": "ipython3",
   "version": "3.10.6"
  }
 },
 "nbformat": 4,
 "nbformat_minor": 2
}
