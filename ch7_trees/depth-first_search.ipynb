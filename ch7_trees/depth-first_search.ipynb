{
 "cells": [
  {
   "cell_type": "code",
   "execution_count": 2,
   "metadata": {},
   "outputs": [],
   "source": [
    "from os import listdir\n",
    "from os.path import join, isfile\n",
    "from collections import deque\n",
    "\n",
    "def printnames(starting_dir):\n",
    "    search_queue = deque()\n",
    "    search_queue.append(starting_dir)\n",
    "    while search_queue:\n",
    "        dir = search_queue.popleft()\n",
    "        for item in sorted(listdir(dir)):\n",
    "            fullpath = join(dir, item)\n",
    "            if isfile(fullpath):\n",
    "                print(item)\n",
    "            else:\n",
    "                search_queue.append(fullpath)\n"
   ]
  },
  {
   "cell_type": "code",
   "execution_count": 3,
   "metadata": {},
   "outputs": [
    {
     "name": "stdout",
     "output_type": "stream",
     "text": [
      "c.txt\n",
      "a.txt\n",
      "b.txt\n"
     ]
    }
   ],
   "source": [
    "printnames(\"testdir\")"
   ]
  },
  {
   "cell_type": "code",
   "execution_count": null,
   "metadata": {},
   "outputs": [],
   "source": []
  }
 ],
 "metadata": {
  "kernelspec": {
   "display_name": "Python 3",
   "language": "python",
   "name": "python3"
  },
  "language_info": {
   "codemirror_mode": {
    "name": "ipython",
    "version": 3
   },
   "file_extension": ".py",
   "mimetype": "text/x-python",
   "name": "python",
   "nbconvert_exporter": "python",
   "pygments_lexer": "ipython3",
   "version": "3.10.6"
  }
 },
 "nbformat": 4,
 "nbformat_minor": 2
}
