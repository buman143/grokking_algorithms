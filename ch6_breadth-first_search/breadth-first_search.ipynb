{
 "cells": [
  {
   "cell_type": "markdown",
   "metadata": {},
   "source": [
    "# General Idea\n",
    "\n",
    "Breadth-first search (BFS) is a graph algorithm that executes by first searching all of the neighboring nodes from the start point before searching the neighboring nodes' neighbors. Remember that trees are special kinds of graphs where nodes can't point back to their parent.\n",
    "\n",
    "The runtime is therefore $O(V+E)$ where $V$ is the number of vertices and $E$ is the number of edges."
   ]
  },
  {
   "cell_type": "code",
   "execution_count": 1,
   "metadata": {},
   "outputs": [],
   "source": [
    "from collections import deque # Import deque to track nodes to search"
   ]
  },
  {
   "cell_type": "code",
   "execution_count": 10,
   "metadata": {},
   "outputs": [],
   "source": [
    "# Build out test graph\n",
    "\n",
    "graph = {}\n",
    "graph[\"you\"] = [\"alice\", \"bob\", \"claire\"]\n",
    "graph[\"bob\"] = [\"anuj\", \"peggy\"]\n",
    "graph[\"alice\"] = [\"peggy\"]\n",
    "graph[\"claire\"] = [\"thom\", \"jonny\"]\n",
    "graph[\"anuj\"] = []\n",
    "graph[\"peggy\"] = []\n",
    "graph[\"thom\"] = []\n",
    "graph[\"jonny\"] = []"
   ]
  },
  {
   "cell_type": "code",
   "execution_count": 11,
   "metadata": {},
   "outputs": [],
   "source": [
    "# Define is_seller method\n",
    "def is_seller(name):\n",
    "    if name[-1] == \"m\":\n",
    "        return True\n",
    "    else:\n",
    "        return False\n",
    "\n",
    "# Define bfs method\n",
    "def bfs(name):\n",
    "    search_queue = deque() # search_queue tracks nodes left to search\n",
    "    search_queue += graph[name] # add list of people to search from starting name\n",
    "    searched = set() # searched tracks nodes already searched\n",
    "\n",
    "    while search_queue: # while the search queue is not empty\n",
    "        person = search_queue.popleft() # pop the next person in the queue\n",
    "        if not person in searched: # if the person isn't in searched\n",
    "            if is_seller(person): # if they're a mango seller, return the name\n",
    "                return person\n",
    "            else: # else, add that person to searched and add all of their neighbors to the queue\n",
    "                search_queue += graph[person]\n",
    "                searched.add(person)\n",
    "\n",
    "    return None\n"
   ]
  },
  {
   "cell_type": "code",
   "execution_count": 12,
   "metadata": {},
   "outputs": [
    {
     "name": "stdout",
     "output_type": "stream",
     "text": [
      "thom\n"
     ]
    }
   ],
   "source": [
    "print(bfs(\"you\"))"
   ]
  },
  {
   "cell_type": "code",
   "execution_count": null,
   "metadata": {},
   "outputs": [],
   "source": []
  }
 ],
 "metadata": {
  "kernelspec": {
   "display_name": "Python 3",
   "language": "python",
   "name": "python3"
  },
  "language_info": {
   "codemirror_mode": {
    "name": "ipython",
    "version": 3
   },
   "file_extension": ".py",
   "mimetype": "text/x-python",
   "name": "python",
   "nbconvert_exporter": "python",
   "pygments_lexer": "ipython3",
   "version": "3.10.6"
  }
 },
 "nbformat": 4,
 "nbformat_minor": 2
}
