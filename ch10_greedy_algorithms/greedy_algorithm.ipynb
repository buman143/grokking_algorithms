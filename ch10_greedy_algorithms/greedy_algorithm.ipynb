{
 "cells": [
  {
   "cell_type": "code",
   "execution_count": 1,
   "metadata": {},
   "outputs": [
    {
     "data": {
      "text/plain": [
       "'\\nSet Covering Problem\\n\\nWe want to find the best combination that covers a particular area.\\nIn this example, we want to find a set of radio stations that best covers a geographic area.\\nWe can use a greedy algorithm to find this solution in O(n^2), whereas an exact algorithm would be O(2^n).\\n'"
      ]
     },
     "execution_count": 1,
     "metadata": {},
     "output_type": "execute_result"
    }
   ],
   "source": [
    "'''\n",
    "Set Covering Problem\n",
    "\n",
    "We want to find the best combination that covers a particular area. The set-covering problem is an NP-hard problem.\n",
    "In this example, we want to find a set of radio stations that best covers a geographic area.\n",
    "We can use a greedy algorithm to find this solution in O(n^2), whereas an exact algorithm would be O(2^n).\n",
    "'''"
   ]
  },
  {
   "cell_type": "code",
   "execution_count": 7,
   "metadata": {},
   "outputs": [],
   "source": [
    "# Set of states we want to cover\n",
    "states_needed = set([\"mt\", \"wa\", \"or\", \"id\", \"nv\", \"ut\", \"ca\", \"az\"])\n",
    "\n",
    "# Stations and their coverage\n",
    "stations = {}\n",
    "stations[\"kone\"] = set([\"id\", \"nv\", \"ut\"])\n",
    "stations[\"ktwo\"] = set([\"wa\", \"id\", \"mt\"])\n",
    "stations[\"kthree\"] = set([\"or\", \"nv\", \"ca\"])\n",
    "stations[\"kfour\"] = set([\"nv\", \"ut\"])\n",
    "stations[\"kfive\"] = set([\"ca\", \"az\"])\n",
    "\n",
    "# Final set of stations\n",
    "final_stations = set()\n"
   ]
  },
  {
   "cell_type": "code",
   "execution_count": 8,
   "metadata": {},
   "outputs": [],
   "source": [
    "# While states needing coverage exist\n",
    "# Loop until there are no more states needing coverage\n",
    "while states_needed:\n",
    "\n",
    "    # Initialize empty best_station and states_covered by that station\n",
    "    best_station = None\n",
    "    states_covered = set()\n",
    "\n",
    "    # While there are still states needing coverage, loop through all stations to find the best coverage\n",
    "    for station, states in stations.items():\n",
    "\n",
    "        # States covered is the intersection of the set of states needed and the station's states\n",
    "        covered = states_needed & states\n",
    "\n",
    "        # Find the station with the most coverage\n",
    "        if len(covered) > len(states_covered):\n",
    "\n",
    "            # That station now becomes the best option\n",
    "            best_station = station\n",
    "\n",
    "            # Update the states covered set\n",
    "            states_covered = covered\n",
    "\n",
    "    # Subtract the states now covered from the set of states needing coverage\n",
    "    states_needed -= states_covered\n",
    "\n",
    "    # Add the best station from this iteration to the final stations set\n",
    "    final_stations.add(best_station)"
   ]
  },
  {
   "cell_type": "code",
   "execution_count": 9,
   "metadata": {},
   "outputs": [
    {
     "data": {
      "text/plain": [
       "{'kfive', 'kone', 'kthree', 'ktwo'}"
      ]
     },
     "execution_count": 9,
     "metadata": {},
     "output_type": "execute_result"
    }
   ],
   "source": [
    "final_stations"
   ]
  },
  {
   "cell_type": "code",
   "execution_count": 10,
   "metadata": {},
   "outputs": [
    {
     "name": "stdout",
     "output_type": "stream",
     "text": [
      "{'ca', 'az'}\n",
      "{'nv', 'ca', 'or'}\n",
      "{'wa', 'id', 'mt'}\n",
      "{'nv', 'ut', 'id'}\n"
     ]
    }
   ],
   "source": [
    "for station in final_stations:\n",
    "    print(stations[station])"
   ]
  },
  {
   "cell_type": "code",
   "execution_count": null,
   "metadata": {},
   "outputs": [],
   "source": []
  }
 ],
 "metadata": {
  "kernelspec": {
   "display_name": "Python 3",
   "language": "python",
   "name": "python3"
  },
  "language_info": {
   "codemirror_mode": {
    "name": "ipython",
    "version": 3
   },
   "file_extension": ".py",
   "mimetype": "text/x-python",
   "name": "python",
   "nbconvert_exporter": "python",
   "pygments_lexer": "ipython3",
   "version": "3.10.6"
  }
 },
 "nbformat": 4,
 "nbformat_minor": 2
}
