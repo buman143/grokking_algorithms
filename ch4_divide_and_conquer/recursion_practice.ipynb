{
 "cells": [
  {
   "cell_type": "code",
   "execution_count": 1,
   "metadata": {},
   "outputs": [],
   "source": [
    "# Exercise 4.1\n",
    "# Function that recursively computes sum of an array of integers\n",
    "\n",
    "def sum(arr):\n",
    "\n",
    "    # Base case: if len(arr) == 0, sum is 0\n",
    "    # This is the simplest possible case\n",
    "    if len(arr) == 0:\n",
    "        return 0\n",
    "    \n",
    "    # Recursive case: sum = arr[0] + arr[rest of array]\n",
    "    # This is a case that tries to divide the problem into a smaller one\n",
    "    else:\n",
    "        return arr[0] + sum(arr[1:])\n"
   ]
  },
  {
   "cell_type": "code",
   "execution_count": 24,
   "metadata": {},
   "outputs": [],
   "source": [
    "test_array = [2, 4, 6]"
   ]
  },
  {
   "cell_type": "code",
   "execution_count": 25,
   "metadata": {},
   "outputs": [
    {
     "name": "stdout",
     "output_type": "stream",
     "text": [
      "12\n"
     ]
    }
   ],
   "source": [
    "print(sum(test_array))"
   ]
  },
  {
   "cell_type": "code",
   "execution_count": 30,
   "metadata": {},
   "outputs": [],
   "source": [
    "# Exercise 4.2\n",
    "# Function that recursively counts the number of items in a list\n",
    "\n",
    "def count(arr):\n",
    "\n",
    "    # Base case: array is empty\n",
    "    if len(arr) == 0:\n",
    "        return 0\n",
    "    \n",
    "    # Recursive case: add 1 and add rest of array\n",
    "    else:\n",
    "        return 1 + count(arr[1:])"
   ]
  },
  {
   "cell_type": "code",
   "execution_count": 31,
   "metadata": {},
   "outputs": [
    {
     "name": "stdout",
     "output_type": "stream",
     "text": [
      "3\n"
     ]
    }
   ],
   "source": [
    "print(count(test_array))"
   ]
  },
  {
   "cell_type": "code",
   "execution_count": 56,
   "metadata": {},
   "outputs": [],
   "source": [
    "# Exercise 4.3\n",
    "# Function that recursively searches for a max number in a list\n",
    "\n",
    "def max(arr):\n",
    "\n",
    "    # Base case: array only has 2 elements, return the greater one\n",
    "    if len(arr) == 2:\n",
    "        return arr[0] if arr[0] > arr[1] else arr[1]\n",
    "    \n",
    "    # Recursive case: call max on rest of array and compare to 1st element\n",
    "    submax = max(arr[1:])\n",
    "    return arr[0] if arr[0] > submax else submax\n"
   ]
  },
  {
   "cell_type": "code",
   "execution_count": 57,
   "metadata": {},
   "outputs": [
    {
     "name": "stdout",
     "output_type": "stream",
     "text": [
      "6\n"
     ]
    }
   ],
   "source": [
    "print(max(test_array))"
   ]
  },
  {
   "cell_type": "code",
   "execution_count": 72,
   "metadata": {},
   "outputs": [],
   "source": [
    "# Exercise 4.4\n",
    "# Recursive binary search\n",
    "\n",
    "def binary_search(element, arr, low, high):\n",
    "\n",
    "    # Base case: there's 1 item left\n",
    "    if low == high:\n",
    "        if arr[low] == element:\n",
    "            return low\n",
    "        else:\n",
    "            return None\n",
    "    \n",
    "    # Recursive case: calculate mid and call function again\n",
    "    else:\n",
    "        mid = (low + high) // 2\n",
    "\n",
    "        # Check if element is at mid\n",
    "        if element == arr[mid]:\n",
    "            return mid\n",
    "        \n",
    "        # Else, call function again with new high low\n",
    "        else:\n",
    "            if element > arr[mid]:\n",
    "                return binary_search(element, arr, mid+1, high)\n",
    "            else:\n",
    "                return binary_search(element, arr, low, mid-1)"
   ]
  },
  {
   "cell_type": "code",
   "execution_count": 73,
   "metadata": {},
   "outputs": [
    {
     "name": "stdout",
     "output_type": "stream",
     "text": [
      "0\n",
      "1\n",
      "2\n"
     ]
    }
   ],
   "source": [
    "print(binary_search(2, test_array, 0, len(test_array)-1)) # Should print 0\n",
    "print(binary_search(4, test_array, 0, len(test_array)-1)) # Should print 1\n",
    "print(binary_search(6, test_array, 0, len(test_array)-1)) # Should print 2"
   ]
  },
  {
   "cell_type": "code",
   "execution_count": null,
   "metadata": {},
   "outputs": [],
   "source": []
  }
 ],
 "metadata": {
  "kernelspec": {
   "display_name": "Python 3",
   "language": "python",
   "name": "python3"
  },
  "language_info": {
   "codemirror_mode": {
    "name": "ipython",
    "version": 3
   },
   "file_extension": ".py",
   "mimetype": "text/x-python",
   "name": "python",
   "nbconvert_exporter": "python",
   "pygments_lexer": "ipython3",
   "version": "3.10.6"
  }
 },
 "nbformat": 4,
 "nbformat_minor": 2
}
