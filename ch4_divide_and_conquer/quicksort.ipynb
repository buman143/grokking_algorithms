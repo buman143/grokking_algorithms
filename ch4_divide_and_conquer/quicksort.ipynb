{
 "cells": [
  {
   "cell_type": "code",
   "execution_count": 16,
   "metadata": {},
   "outputs": [],
   "source": [
    "# Recursive quicksort method that sorts an array in ascending order\n",
    "# Idea is to recursively reduce array until it's sorted, and then combine results\n",
    "# Every time we call quickort on an array < 1, it will divide elements into smaller arrays, until they are length 1\n",
    "\n",
    "def quicksort(arr):\n",
    "\n",
    "    # Base case: array is length < 2 (it's already sorted)\n",
    "    if len(arr) < 2:\n",
    "        return arr\n",
    "    \n",
    "    # Recursive case: select pivot and call self \n",
    "    else:\n",
    "        mid = len(arr) // 2\n",
    "        pivot = arr[mid]\n",
    "        arr.remove(pivot)\n",
    "        less = [i for i in arr if i <= pivot]\n",
    "        greater = [i for i in arr if i > pivot]\n",
    "        return quicksort(less) + [pivot] + quicksort(greater)"
   ]
  },
  {
   "cell_type": "code",
   "execution_count": 17,
   "metadata": {},
   "outputs": [
    {
     "name": "stdout",
     "output_type": "stream",
     "text": [
      "[2, 3, 5, 10]\n"
     ]
    }
   ],
   "source": [
    "print(quicksort([10, 5, 2, 3]))"
   ]
  },
  {
   "cell_type": "code",
   "execution_count": 18,
   "metadata": {},
   "outputs": [],
   "source": [
    "# Quicksort function that sorts in descending order\n",
    "\n",
    "def quicksort_desc(arr):\n",
    "\n",
    "    # Base case:\n",
    "    if len(arr) < 2:\n",
    "        return arr\n",
    "    \n",
    "    # Recursive case:\n",
    "    else:\n",
    "\n",
    "        mid = len(arr) // 2\n",
    "        pivot = arr[mid]\n",
    "        arr.remove(pivot)\n",
    "        less = [i for i in arr if i <= pivot]\n",
    "        greater = [i for i in arr if i > pivot]\n",
    "\n",
    "        # This is the only part we need to change (the order of the combined subarrays)\n",
    "        return quicksort_desc(greater) + [pivot] + quicksort_desc(less)"
   ]
  },
  {
   "cell_type": "code",
   "execution_count": 19,
   "metadata": {},
   "outputs": [
    {
     "name": "stdout",
     "output_type": "stream",
     "text": [
      "[10, 5, 3, 2]\n"
     ]
    }
   ],
   "source": [
    "print(quicksort_desc([10, 5, 2, 3]))"
   ]
  },
  {
   "cell_type": "code",
   "execution_count": null,
   "metadata": {},
   "outputs": [],
   "source": []
  }
 ],
 "metadata": {
  "kernelspec": {
   "display_name": "Python 3",
   "language": "python",
   "name": "python3"
  },
  "language_info": {
   "codemirror_mode": {
    "name": "ipython",
    "version": 3
   },
   "file_extension": ".py",
   "mimetype": "text/x-python",
   "name": "python",
   "nbconvert_exporter": "python",
   "pygments_lexer": "ipython3",
   "version": "3.10.6"
  }
 },
 "nbformat": 4,
 "nbformat_minor": 2
}
