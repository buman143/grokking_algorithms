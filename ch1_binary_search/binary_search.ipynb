{
 "cells": [
  {
   "cell_type": "markdown",
   "metadata": {},
   "source": [
    "# Binary Search\n",
    "The general idea is to reduce the search region by half with each recursive call or loop iteration.  \n",
    "The call stack will then be a height of $O(\\log n)$, which is also the time complexity of the algorithm."
   ]
  },
  {
   "cell_type": "code",
   "execution_count": 1,
   "metadata": {},
   "outputs": [],
   "source": [
    "import random"
   ]
  },
  {
   "cell_type": "code",
   "execution_count": 35,
   "metadata": {},
   "outputs": [],
   "source": [
    "# Define binary search method\n",
    "\n",
    "def binary_search(element, arr):\n",
    "    '''\n",
    "    Input: element, element we are searching for\n",
    "    Output: index, index position of element\n",
    "    '''\n",
    "\n",
    "    low = 0\n",
    "    high = len(arr)-1\n",
    "\n",
    "    while low <= high:\n",
    "        mid = (low+high)//2\n",
    "        if element == arr[mid]:\n",
    "            return mid\n",
    "        elif arr[mid] > element:\n",
    "            high = mid-1\n",
    "        else:\n",
    "            low = mid+1\n",
    "    \n",
    "    return None\n",
    "    \n",
    "    "
   ]
  },
  {
   "cell_type": "code",
   "execution_count": 118,
   "metadata": {},
   "outputs": [],
   "source": [
    "# Recursive version of binary search\n",
    "\n",
    "def recursive_binary_search(element, arr, low, high):\n",
    "\n",
    "    # If there is only 1 element left\n",
    "    if low == high:\n",
    "        \n",
    "        # If low (and high) == element, return low\n",
    "        if arr[low] == element:\n",
    "            return low\n",
    "        \n",
    "        # Else, element is not in array\n",
    "        else:\n",
    "            return None\n",
    "    \n",
    "    # Else, call function again\n",
    "    else:\n",
    "\n",
    "        # Calculate mid (floor division)\n",
    "        mid = (low+high)//2\n",
    "\n",
    "        # Check if arr[mid] == element\n",
    "        if arr[mid] == element:\n",
    "            return mid\n",
    "        \n",
    "        # Else, update parameters and call function again\n",
    "        else:\n",
    "\n",
    "            # If arr[mid] > element, we need to search to the left of mid\n",
    "            if arr[mid] > element:\n",
    "                high = mid-1\n",
    "                return recursive_binary_search(element, arr, low, high)\n",
    "            \n",
    "            # Else (arr[mid] < element), we need to search to the right of mid\n",
    "            else:\n",
    "                low = mid+1\n",
    "                return recursive_binary_search(element, arr, low, high)\n"
   ]
  },
  {
   "cell_type": "code",
   "execution_count": 126,
   "metadata": {},
   "outputs": [],
   "source": [
    "# Define method that returns a random array of n ints\n",
    "\n",
    "def getArray(n):\n",
    "    array = random.sample(range(0,101), n)\n",
    "    array.sort()\n",
    "    return array"
   ]
  },
  {
   "cell_type": "code",
   "execution_count": 120,
   "metadata": {},
   "outputs": [],
   "source": [
    "# Manually created array for testing\n",
    "\n",
    "test_array1 = [1, 4, 7, 8, 11]"
   ]
  },
  {
   "cell_type": "code",
   "execution_count": 122,
   "metadata": {},
   "outputs": [
    {
     "name": "stdout",
     "output_type": "stream",
     "text": [
      "1\n",
      "1\n",
      "1\n"
     ]
    }
   ],
   "source": [
    "test_target = 4\n",
    "print(binary_search(test_target, test_array1))\n",
    "print(recursive_binary_search(test_target, test_array1, 0, len(test_array1)-1))\n",
    "print(test_array1.index(test_target))"
   ]
  },
  {
   "cell_type": "code",
   "execution_count": 127,
   "metadata": {},
   "outputs": [
    {
     "name": "stdout",
     "output_type": "stream",
     "text": [
      "[1, 3, 6, 12, 13, 14, 20, 21, 31, 33, 37, 44, 49, 51, 57, 62, 64, 67, 71, 74, 76, 84, 87, 91, 92]\n"
     ]
    }
   ],
   "source": [
    "# Check with a larger array\n",
    "test_array2 = getArray(25)\n",
    "print(test_array2)"
   ]
  },
  {
   "cell_type": "code",
   "execution_count": 132,
   "metadata": {},
   "outputs": [
    {
     "name": "stdout",
     "output_type": "stream",
     "text": [
      "16\n",
      "16\n",
      "16\n"
     ]
    }
   ],
   "source": [
    "test_target = 64\n",
    "print(binary_search(test_target, test_array2))\n",
    "print(recursive_binary_search(test_target, test_array2, 0, len(test_array2)-1))\n",
    "print(test_array2.index(test_target))"
   ]
  },
  {
   "cell_type": "code",
   "execution_count": null,
   "metadata": {},
   "outputs": [],
   "source": []
  }
 ],
 "metadata": {
  "kernelspec": {
   "display_name": "Python 3",
   "language": "python",
   "name": "python3"
  },
  "language_info": {
   "codemirror_mode": {
    "name": "ipython",
    "version": 3
   },
   "file_extension": ".py",
   "mimetype": "text/x-python",
   "name": "python",
   "nbconvert_exporter": "python",
   "pygments_lexer": "ipython3",
   "version": "3.10.6"
  }
 },
 "nbformat": 4,
 "nbformat_minor": 2
}
