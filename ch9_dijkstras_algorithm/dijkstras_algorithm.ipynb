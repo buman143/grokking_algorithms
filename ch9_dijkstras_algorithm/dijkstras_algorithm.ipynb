{
 "cells": [
  {
   "cell_type": "code",
   "execution_count": 4,
   "metadata": {},
   "outputs": [],
   "source": [
    "from math import inf"
   ]
  },
  {
   "cell_type": "code",
   "execution_count": 2,
   "metadata": {},
   "outputs": [
    {
     "data": {
      "text/plain": [
       "{'start': {'a': 6, 'b': 2},\n",
       " 'a': {'finish': 1},\n",
       " 'b': {'a': 3, 'finish': 5},\n",
       " 'finish': {}}"
      ]
     },
     "execution_count": 2,
     "metadata": {},
     "output_type": "execute_result"
    }
   ],
   "source": [
    "# Initialize graph\n",
    "\n",
    "graph = {}\n",
    "graph[\"start\"] = {}\n",
    "graph[\"start\"][\"a\"] = 6\n",
    "graph[\"start\"][\"b\"] = 2\n",
    "\n",
    "graph[\"a\"] = {}\n",
    "graph[\"a\"][\"finish\"] = 1\n",
    "\n",
    "graph[\"b\"] = {}\n",
    "graph[\"b\"][\"a\"] = 3\n",
    "graph[\"b\"][\"finish\"] = 5\n",
    "\n",
    "graph[\"finish\"] = {}\n",
    "graph"
   ]
  },
  {
   "cell_type": "code",
   "execution_count": 6,
   "metadata": {},
   "outputs": [
    {
     "data": {
      "text/plain": [
       "{'a': 6, 'b': 2, 'finish': inf}"
      ]
     },
     "execution_count": 6,
     "metadata": {},
     "output_type": "execute_result"
    }
   ],
   "source": [
    "# Initialize costs table\n",
    "\n",
    "infinity = inf\n",
    "costs = {}\n",
    "costs[\"a\"] = 6\n",
    "costs[\"b\"] = 2\n",
    "costs[\"finish\"] = infinity\n",
    "\n",
    "costs"
   ]
  },
  {
   "cell_type": "code",
   "execution_count": 7,
   "metadata": {},
   "outputs": [
    {
     "data": {
      "text/plain": [
       "{'a': 'start', 'b': 'start', 'finish': None}"
      ]
     },
     "execution_count": 7,
     "metadata": {},
     "output_type": "execute_result"
    }
   ],
   "source": [
    "# Initialize parents table\n",
    "\n",
    "parents = {}\n",
    "parents[\"a\"] = \"start\"\n",
    "parents[\"b\"] = \"start\"\n",
    "parents[\"finish\"] = None\n",
    "\n",
    "parents"
   ]
  },
  {
   "cell_type": "code",
   "execution_count": 8,
   "metadata": {},
   "outputs": [],
   "source": [
    "# Initialize processed set to keep track of processed nodes\n",
    "\n",
    "processed = set()"
   ]
  },
  {
   "cell_type": "code",
   "execution_count": 9,
   "metadata": {},
   "outputs": [],
   "source": [
    "# Define helper find_lowest_cost_node function\n",
    "\n",
    "def find_lowest_cost_node(costs):\n",
    "    lowest_cost = inf\n",
    "    lowest_cost_node = None\n",
    "    for node in costs:\n",
    "        cost = costs[node]\n",
    "        if cost < lowest_cost and node not in processed:\n",
    "            lowest_cost = cost\n",
    "            lowest_cost_node = node\n",
    "    return lowest_cost_node"
   ]
  },
  {
   "cell_type": "code",
   "execution_count": 13,
   "metadata": {},
   "outputs": [
    {
     "name": "stdout",
     "output_type": "stream",
     "text": [
      "{'a': 5, 'b': 2, 'finish': 6}\n",
      "{'a': 'b', 'b': 'start', 'finish': 'a'}\n"
     ]
    }
   ],
   "source": [
    "# Dijkstra's algorithm\n",
    "\n",
    "node = find_lowest_cost_node(costs) # Get cheapest node\n",
    "while node is not None: # While there are still nodes to process\n",
    "    cost = costs[node] # Get cost to get to that node\n",
    "    neighbors = graph[node] # Get node's neighbors\n",
    "    for n in neighbors.keys(): # For each of the node's neighbors\n",
    "        new_cost = cost + neighbors[n] # Calculate a new cost to get to neighbor\n",
    "        if costs[n] > new_cost: # If that cost is lower than the existing cost\n",
    "            costs[n] = new_cost # Update cost to that neighbor\n",
    "            parents[n] = node # Update the parent for that node\n",
    "    processed.add(node) # Add that node to the processed set\n",
    "    node = find_lowest_cost_node(costs) # Get next lowest cost node not in processed set\n",
    "\n",
    "print(costs)\n",
    "print(parents)\n",
    "\n"
   ]
  },
  {
   "cell_type": "code",
   "execution_count": null,
   "metadata": {},
   "outputs": [],
   "source": []
  }
 ],
 "metadata": {
  "kernelspec": {
   "display_name": "Python 3",
   "language": "python",
   "name": "python3"
  },
  "language_info": {
   "codemirror_mode": {
    "name": "ipython",
    "version": 3
   },
   "file_extension": ".py",
   "mimetype": "text/x-python",
   "name": "python",
   "nbconvert_exporter": "python",
   "pygments_lexer": "ipython3",
   "version": "3.10.6"
  }
 },
 "nbformat": 4,
 "nbformat_minor": 2
}
